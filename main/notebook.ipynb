{
 "cells": [
  {
   "cell_type": "code",
   "execution_count": 8,
   "outputs": [],
   "source": [
    "import numpy as np\n",
    "import matplotlib.pyplot as plt\n",
    "\n",
    "# this tells Jupyter to embed matplotlib plots in the notebook\n",
    "%matplotlib inline"
   ],
   "metadata": {
    "collapsed": false
   }
  },
  {
   "cell_type": "code",
   "execution_count": 16,
   "outputs": [],
   "source": [
    "def sinc(x):\n",
    "    return np.sin(x) / x\n",
    "\n",
    "def d_sinc(x):\n",
    "    \"derivative of sinc-function\"\n",
    "    return np.cos(x)/x - np.sin(x)/x**2"
   ],
   "metadata": {
    "collapsed": false
   }
  },
  {
   "cell_type": "code",
   "execution_count": 17,
   "outputs": [],
   "source": [
    "# evaluate functions at 1000 points evenly spaced in [-15, 15]\n",
    "x = np.linspace(-15, 15, 1000)\n",
    "f = sinc(x)\n",
    "df = d_sinc(x)"
   ],
   "metadata": {
    "collapsed": false
   }
  },
  {
   "cell_type": "code",
   "execution_count": null,
   "outputs": [],
   "source": [
    "# plot the sinc-function and its derivative\n",
    "fig, ax = plt.subplots()\n",
    "ax.plot(x, f, color=\"red\", label=r\"$sinc(x)$\")\n",
    "ax.plot(x, df, color=\"blue\", ls=\"--\", label=r\"$\\frac{d(sinc(x))}{dx}$\")\n",
    "\n",
    "\n",
    "ax.set_title(\"Example Notebook Plot\")\n",
    "ax.set_xlabel(r\"$x$ [radians]\")\n",
    "\n",
    "ax.grid(True)\n",
    "ax.legend();"
   ],
   "metadata": {
    "collapsed": false
   }
  },
  {
   "cell_type": "code",
   "execution_count": null,
   "outputs": [],
   "source": [],
   "metadata": {
    "collapsed": false
   }
  }
 ],
 "metadata": {
  "kernelspec": {
   "display_name": "Python 3",
   "language": "python",
   "name": "python3"
  },
  "language_info": {
   "codemirror_mode": {
    "name": "ipython",
    "version": 2
   },
   "file_extension": ".py",
   "mimetype": "text/x-python",
   "name": "python",
   "nbconvert_exporter": "python",
   "pygments_lexer": "ipython2",
   "version": "2.7.6"
  }
 },
 "nbformat": 4,
 "nbformat_minor": 0
}
